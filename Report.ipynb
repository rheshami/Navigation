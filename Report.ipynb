{
 "metadata": {
  "language_info": {
   "codemirror_mode": {
    "name": "ipython",
    "version": 3
   },
   "file_extension": ".py",
   "mimetype": "text/x-python",
   "name": "python",
   "nbconvert_exporter": "python",
   "pygments_lexer": "ipython3",
   "version": 3
  },
  "orig_nbformat": 2
 },
 "nbformat": 4,
 "nbformat_minor": 2,
 "cells": [
  {
   "cell_type": "markdown",
   "metadata": {},
   "source": [
    "#### Learning algorithm\n",
    "For this project I used basic DQN algorithm with following parameters\n",
    "\n",
    "- Maximum number of timesteps per episode: 1000\n",
    "- Starting value of epsilon, for epsilon-greedy action selection: 0.1\n",
    "- Minimum value of epsilon: 0.001\n",
    "- Multiplicative factor (per episode) for decreasing epsilon (epsilon decay): 0.995\n",
    "\n",
    "I used following neural network model:\n",
    "\n",
    "- Fully connected layer - input size: 37 (state size) output size: 124\n",
    "- Fully connected layer - input: 124 output 124\n",
    "- Fully connected layer - input: 124 output 64\n",
    "- Fully connected layer - input: 64 output: 4 (action size)\n",
    "- I also used dropout to avoid over fitting. "
   ]
  }
 ]
}